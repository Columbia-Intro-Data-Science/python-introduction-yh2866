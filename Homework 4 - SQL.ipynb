{
 "cells": [
  {
   "cell_type": "markdown",
   "metadata": {},
   "source": [
    "### AMPA 4900 HW 4\n",
    "### Name: Yuanqing Hong\n",
    "### UNI: yh2866"
   ]
  },
  {
   "cell_type": "markdown",
   "metadata": {},
   "source": [
    "#### Q1 Give a count of all videos currently out."
   ]
  },
  {
   "cell_type": "code",
   "execution_count": null,
   "metadata": {
    "collapsed": true
   },
   "outputs": [],
   "source": [
    "SELECT count(customer_id)\n",
    "FROM rental\n",
    "WHERE return_date is NULL"
   ]
  },
  {
   "cell_type": "markdown",
   "metadata": {},
   "source": [
    "Result:\n",
    "<img src=\"data/Picture1.PNG\">"
   ]
  },
  {
   "cell_type": "markdown",
   "metadata": {},
   "source": [
    "#### Q2 Make a list of all customer names who have videos out and how much they owe."
   ]
  },
  {
   "cell_type": "code",
   "execution_count": null,
   "metadata": {
    "collapsed": true
   },
   "outputs": [],
   "source": [
    "SELECT a.first_name,\n",
    "       a.last_name,\n",
    "       count(a.customer_id) as Num_Vidoes\n",
    "FROM customer AS a,\n",
    "     rental AS b\n",
    "WHERE a.customer_id = b.customer_id\n",
    "  AND b.return_date IS NULL\n",
    "GROUP BY a.customer_id\n",
    "ORDER BY 3 DESC"
   ]
  },
  {
   "cell_type": "markdown",
   "metadata": {},
   "source": [
    "Result:\n",
    "<img src=\"data/Picture2_2.PNG\">"
   ]
  },
  {
   "cell_type": "markdown",
   "metadata": {},
   "source": [
    "#### Q4 Using a 1 per day late fee. Find out which users owe the most assuming all rentals are a week long."
   ]
  },
  {
   "cell_type": "code",
   "execution_count": null,
   "metadata": {
    "collapsed": true
   },
   "outputs": [],
   "source": [
    "SELECT customer.first_name, \n",
    "       customer.last_name, \n",
    "       (date(rental.return_date) - date(rental.rental_date))*1 AS Penalty\n",
    "FROM rental,\n",
    "     customer\n",
    "WHERE date(rental.return_date) - date(rental.rental_date) >= 7\n",
    "  AND rental.customer_id = customer.customer_id\n",
    "ORDER BY Penalty DESC"
   ]
  },
  {
   "cell_type": "markdown",
   "metadata": {},
   "source": [
    "Result:\n",
    "<img src=\"data/Picture4.PNG\">"
   ]
  },
  {
   "cell_type": "markdown",
   "metadata": {},
   "source": [
    "#### Q5 What hour of the day to people rent the most ?"
   ]
  },
  {
   "cell_type": "code",
   "execution_count": null,
   "metadata": {
    "collapsed": true
   },
   "outputs": [],
   "source": [
    "SELECT extract(hour\n",
    "               FROM rental_date) AS rental_hour,\n",
    "       count(extract(hour\n",
    "                     FROM rental_date))\n",
    "FROM rental\n",
    "GROUP BY rental_hour\n",
    "ORDER BY 2 DESC"
   ]
  },
  {
   "cell_type": "markdown",
   "metadata": {},
   "source": [
    "Result:\n",
    "<img src=\"data/Picture5.PNG\">"
   ]
  },
  {
   "cell_type": "markdown",
   "metadata": {},
   "source": [
    "#### Q6 Which store is more profitable, assuming all movies cost 15 per inventory item to purchase."
   ]
  },
  {
   "cell_type": "code",
   "execution_count": null,
   "metadata": {
    "collapsed": true
   },
   "outputs": [],
   "source": [
    "SELECT c.store_id,\n",
    "       a.total_sales AS total_sales,\n",
    "       15*count(c.inventory_id) AS Cost,\n",
    "       (a.total_sales-15*count(c.inventory_id)) AS Profit\n",
    "FROM sales_by_store a\n",
    "INNER JOIN staff_list b ON b.name = a.manager\n",
    "INNER JOIN inventory c ON c.store_id = b.sid\n",
    "GROUP BY c.store_id,\n",
    "         a.total_sales\n",
    "ORDER BY 4 DESC"
   ]
  },
  {
   "cell_type": "markdown",
   "metadata": {},
   "source": [
    "Result:\n",
    "<img src=\"data/Picture6_5.png\">"
   ]
  },
  {
   "cell_type": "code",
   "execution_count": null,
   "metadata": {
    "collapsed": true
   },
   "outputs": [],
   "source": []
  }
 ],
 "metadata": {
  "anaconda-cloud": {},
  "kernelspec": {
   "display_name": "Python [Root]",
   "language": "python",
   "name": "Python [Root]"
  },
  "language_info": {
   "codemirror_mode": {
    "name": "ipython",
    "version": 2
   },
   "file_extension": ".py",
   "mimetype": "text/x-python",
   "name": "python",
   "nbconvert_exporter": "python",
   "pygments_lexer": "ipython2",
   "version": "2.7.12"
  }
 },
 "nbformat": 4,
 "nbformat_minor": 0
}
